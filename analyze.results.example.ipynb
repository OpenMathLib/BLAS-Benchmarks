{
 "cells": [
  {
   "cell_type": "code",
   "execution_count": 1,
   "id": "4dc74341-0f88-42df-8dc8-92a0aeb1096d",
   "metadata": {},
   "outputs": [],
   "source": [
    "import numpy as np\n",
    "import matplotlib.pyplot as plt\n",
    "from scipy.stats import linregress\n",
    "import requests"
   ]
  },
  {
   "cell_type": "markdown",
   "id": "66570816-b9cd-4b39-8145-0f49f0cfc15f",
   "metadata": {},
   "source": [
    "# Load and analyze bare benchmark results\n",
    "\n",
    "ASV web display is rich but does not do everythin. When you need to run some analysis it does not provide, you can load the raw benchmark data, which are stored in the `results` folder of the `gh-pages` branch of the repository.\n",
    "\n",
    "Consider an example: let's check how the matrix-multiply routine `gemm` scales with the array size and compare to the expected cubic scaling, $\\sim N^3$.\n",
    "\n",
    "First note that the results are stored as json files in the `results/machine-name/` directory. We load the json for some commit hash:"
   ]
  },
  {
   "cell_type": "code",
   "execution_count": 2,
   "id": "e5fbd14c-a07f-41a9-8e56-85458e4c787e",
   "metadata": {},
   "outputs": [],
   "source": [
    "url = \"https://raw.githubusercontent.com/OpenMathLib/BLAS-Benchmarks/gh-pages/results/gha-aws-graviton/fb8ab261-virtualenv-py3.12.json\"\n",
    "results = requests.get(url).json()"
   ]
  },
  {
   "cell_type": "markdown",
   "id": "0c1fadbf-2c83-4a61-b32c-4dd1aaeff849",
   "metadata": {},
   "source": [
    "The format of the results file is documented in the [ASV developer docs](https://asv.readthedocs.io/en/stable/dev.html#benchmark-suite-layout-and-file-formats).\n",
    "\n",
    "In short, we are looking for a key `\"results\"` and a subkey with the benchmark name:"
   ]
  },
  {
   "cell_type": "code",
   "execution_count": 5,
   "id": "95629c08-4a0c-4a2e-bfe9-d0ecff0deb3d",
   "metadata": {},
   "outputs": [],
   "source": [
    "gemm_results = results[\"results\"][\"benchmarks.gemm.time_gemm\"]"
   ]
  },
  {
   "cell_type": "markdown",
   "id": "0a1a58e9-33b6-40df-a5e8-2371d9cd7a52",
   "metadata": {},
   "source": [
    "Now, `gemm_results` is a list of lists and we are interested in the two first elements, which hold the benchmark results (in seconds, for `time_` benchmarks) and parameter lists. "
   ]
  },
  {
   "cell_type": "code",
   "execution_count": 18,
   "id": "1ed8c749-2ec0-41e5-82fe-12c00965d5de",
   "metadata": {},
   "outputs": [
    {
     "name": "stdout",
     "output_type": "stream",
     "text": [
      "('100', \"'s'\") 3.094066903409531e-05\n",
      "('100', \"'d'\") 5.297513349516733e-05\n",
      "('100', \"'c'\") 0.0001136026793479741\n",
      "('100', \"'z'\") 0.00020522390999985873\n",
      "('200', \"'s'\") 0.000190337368421143\n",
      "('200', \"'d'\") 0.0003644822413794349\n",
      "('200', \"'c'\") 0.0007786495769218722\n",
      "('200', \"'z'\") 0.0015165394285706463\n",
      "('400', \"'s'\") 0.0013642758749998762\n",
      "('400', \"'d'\") 0.002745753000002793\n",
      "('400', \"'c'\") 0.0060967010000041455\n",
      "('400', \"'z'\") 0.012055932499990263\n",
      "('600', \"'s'\") 0.0046867961666663405\n",
      "('600', \"'d'\") 0.009184491749998358\n",
      "('600', \"'c'\") 0.02009252350001134\n",
      "('600', \"'z'\") 0.040977206500002694\n",
      "('800', \"'s'\") 0.01060090300001093\n",
      "('800', \"'d'\") 0.021474112999996464\n",
      "('800', \"'c'\") 0.0471736915000065\n",
      "('800', \"'z'\") 0.09596087750000493\n",
      "('1000', \"'s'\") 0.02110663850000094\n",
      "('1000', \"'d'\") 0.04267209399999672\n",
      "('1000', \"'c'\") 0.09408231599999795\n",
      "('1000', \"'z'\") 0.18838757800000394\n"
     ]
    }
   ],
   "source": [
    "import itertools\n",
    "\n",
    "# json format is documented \n",
    "# https://asv.readthedocs.io/en/stable/dev.html#benchmark-suite-layout-and-file-formats\n",
    "# In short, for multiple parameters the `results` list corresponds to an outer product of\n",
    "# parameters.\n",
    "#\n",
    "param_combs = itertools.product(*gemm_results[1])\n",
    "for res, parm in zip(gemm_results[0], param_combs):\n",
    "    print(parm, res)"
   ]
  },
  {
   "cell_type": "markdown",
   "id": "bf54c38c-292c-4ae7-ab6c-c5baa07948a5",
   "metadata": {},
   "source": [
    "Let's now quickly read in the double-precision, `'d'`, results vs the matrix size, run a linear regression in the logspace (since we expect a power-law scaling), and plot everything:"
   ]
  },
  {
   "cell_type": "code",
   "execution_count": 63,
   "id": "024c977d-8980-4842-87ba-93acf7766338",
   "metadata": {},
   "outputs": [],
   "source": [
    "sizes, times = [], []\n",
    "\n",
    "param_combs = itertools.product(*gemm_results[1])\n",
    "for res, parm in zip(gemm_results[0], param_combs):\n",
    "    size, var = parm\n",
    "    if var == \"'s'\":\n",
    "        sizes.append(int(size))\n",
    "        times.append(res)\n",
    "\n",
    "times = np.asarray(times)\n",
    "sizes = np.asarray(sizes)"
   ]
  },
  {
   "cell_type": "code",
   "execution_count": 65,
   "id": "af3a368e-0193-484d-8727-22bf43aaae4f",
   "metadata": {},
   "outputs": [
    {
     "data": {
      "text/plain": [
       "LinregressResult(slope=2.843086680878505, intercept=-23.556217088225388, rvalue=0.9996655473355168, pvalue=1.6776917146898127e-07, stderr=0.036774890861551744, intercept_stderr=0.22192218793752486)"
      ]
     },
     "execution_count": 65,
     "metadata": {},
     "output_type": "execute_result"
    }
   ],
   "source": [
    "log_sizes = np.log(sizes)\n",
    "log_times = np.log(times)\n",
    "\n",
    "regr = linregress(log_sizes, log_times)\n",
    "regr"
   ]
  },
  {
   "cell_type": "code",
   "execution_count": 67,
   "id": "17d44ba5-7ff0-407d-b9aa-d897899684ad",
   "metadata": {},
   "outputs": [
    {
     "data": {
      "text/plain": [
       "<matplotlib.legend.Legend at 0x7f61adf5cd50>"
      ]
     },
     "execution_count": 67,
     "metadata": {},
     "output_type": "execute_result"
    },
    {
     "data": {
      "image/png": "[encoded data removed]",
      "text/plain": [
       "<Figure size 640x480 with 1 Axes>"
      ]
     },
     "metadata": {},
     "output_type": "display_data"
    }
   ],
   "source": [
    "plt.loglog(sizes, np.exp(regr.intercept) * sizes**regr.slope, '--', label=r\"slope = $%.3s$\" % regr.slope)\n",
    "plt.loglog(sizes, times, 'o', label='time')\n",
    "\n",
    "plt.xlabel('size')\n",
    "plt.ylabel('time gemm, sec')\n",
    "plt.legend()"
   ]
  },
  {
   "cell_type": "markdown",
   "id": "a242aff3-2109-4bd1-9fd1-a7b2494c276f",
   "metadata": {},
   "source": [
    "So indeed, the time complexity is about $O(N^{2.8})$, which reasonably close to the ideal result of $O(N^3)$."
   ]
  },
  {
   "cell_type": "markdown",
   "id": "a32fa259-8957-4c45-a70b-bd44fee0ee30",
   "metadata": {},
   "source": []
  }
 ],
 "metadata": {
  "kernelspec": {
   "display_name": "Python 3 (ipykernel)",
   "language": "python",
   "name": "python3"
  },
  "language_info": {
   "codemirror_mode": {
    "name": "ipython",
    "version": 3
   },
   "file_extension": ".py",
   "mimetype": "text/x-python",
   "name": "python",
   "nbconvert_exporter": "python",
   "pygments_lexer": "ipython3",
   "version": "3.11.0"
  }
 },
 "nbformat": 4,
 "nbformat_minor": 5
}
